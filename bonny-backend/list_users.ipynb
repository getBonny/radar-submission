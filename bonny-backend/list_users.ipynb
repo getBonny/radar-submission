{
 "cells": [
  {
   "cell_type": "code",
   "execution_count": null,
   "metadata": {
    "collapsed": true
   },
   "outputs": [],
   "source": [
    "%pip install firebase-admin"
   ]
  },
  {
   "cell_type": "code",
   "execution_count": null,
   "metadata": {},
   "outputs": [],
   "source": [
    "from firebase_admin import auth, initialize_app\n",
    "\n",
    "default_app = initialize_app(options={\"projectId\": \"locards-bonny-test\"})"
   ]
  },
  {
   "cell_type": "code",
   "execution_count": null,
   "metadata": {},
   "outputs": [],
   "source": [
    "from datetime import datetime, timezone\n",
    "\n",
    "\n",
    "page = auth.list_users()\n",
    "while page:\n",
    "    #print('User, erstellt am, zuletzt online am, Rufnummer'.format())\n",
    "\n",
    "    for user in page.users:\n",
    "        creation_timestamp = datetime.fromtimestamp(int(user.user_metadata.creation_timestamp)/1000, timezone.utc).strftime('%d.%m.%Y %H:%M:%S')\n",
    "        last_online_timestamp = datetime.fromtimestamp(int(user.user_metadata.last_refresh_timestamp)/1000, timezone.utc).strftime('%d.%m.%Y %H:%M:%S')\n",
    "        print('{0}, {1}, {2}, {3}'.format(user.uid, creation_timestamp, last_online_timestamp, user.phone_number))\n",
    "        \n",
    "        # roles = [\"customer\"]\n",
    "        # if user.uid in storeowner_list_prod or user.uid in storeowner_list_dev:\n",
    "        #     roles = [\"customer\", \"storeowner\"]\n",
    "        #     store_owner_found_counter = store_owner_found_counter + 1\n",
    "        #     print(f\"store owner found: {user.uid}\")\n",
    "        # auth.set_custom_user_claims(user.uid, custom_claims={ \"roles\": roles })\n",
    "    # Get next batch of users.\n",
    "        \n",
    "    userIds = [user.uid for user in page.users]\n",
    "    auth.delete_users(userIds)\n",
    "    page = page.get_next_page()\n"
   ]
  }
 ],
 "metadata": {
  "kernelspec": {
   "display_name": "Python 3",
   "language": "python",
   "name": "python3"
  },
  "language_info": {
   "codemirror_mode": {
    "name": "ipython",
    "version": 3
   },
   "file_extension": ".py",
   "mimetype": "text/x-python",
   "name": "python",
   "nbconvert_exporter": "python",
   "pygments_lexer": "ipython3",
   "version": "3.9.2"
  }
 },
 "nbformat": 4,
 "nbformat_minor": 0
}
